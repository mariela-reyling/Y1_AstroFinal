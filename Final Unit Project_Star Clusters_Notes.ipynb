{
 "cells": [
  {
   "cell_type": "markdown",
   "metadata": {},
   "source": [
    "# Making a CMD for your Star Cluster\n"
   ]
  },
  {
   "cell_type": "code",
   "execution_count": 2,
   "metadata": {},
   "outputs": [],
   "source": [
    "import numpy as np\n",
    "import matplotlib.pyplot as plt\n",
    "import pandas as pd"
   ]
  },
  {
   "cell_type": "code",
   "execution_count": 3,
   "metadata": {},
   "outputs": [],
   "source": [
    "df = pd.read_csv(\"oh_table.csv\")"
   ]
  },
  {
   "cell_type": "code",
   "execution_count": 4,
   "metadata": {},
   "outputs": [
    {
     "data": {
      "text/html": [
       "<div>\n",
       "<style scoped>\n",
       "    .dataframe tbody tr th:only-of-type {\n",
       "        vertical-align: middle;\n",
       "    }\n",
       "\n",
       "    .dataframe tbody tr th {\n",
       "        vertical-align: top;\n",
       "    }\n",
       "\n",
       "    .dataframe thead th {\n",
       "        text-align: right;\n",
       "    }\n",
       "</style>\n",
       "<table border=\"1\" class=\"dataframe\">\n",
       "  <thead>\n",
       "    <tr style=\"text-align: right;\">\n",
       "      <th></th>\n",
       "      <th>row_id</th>\n",
       "      <th>tgas_source_id</th>\n",
       "      <th>name</th>\n",
       "      <th>ra</th>\n",
       "      <th>dec</th>\n",
       "      <th>parallax</th>\n",
       "      <th>distance</th>\n",
       "      <th>G</th>\n",
       "      <th>J</th>\n",
       "      <th>rave_obs_id</th>\n",
       "      <th>rv</th>\n",
       "      <th>erv</th>\n",
       "      <th>group_id</th>\n",
       "      <th>group_size</th>\n",
       "    </tr>\n",
       "  </thead>\n",
       "  <tbody>\n",
       "    <tr>\n",
       "      <th>0</th>\n",
       "      <td>659</td>\n",
       "      <td>49809491645958528</td>\n",
       "      <td>TYC 1253-388-1</td>\n",
       "      <td>59.457281</td>\n",
       "      <td>18.562195</td>\n",
       "      <td>7.7395</td>\n",
       "      <td>129.949</td>\n",
       "      <td>11.160</td>\n",
       "      <td>9.984</td>\n",
       "      <td>NaN</td>\n",
       "      <td>NaN</td>\n",
       "      <td>NaN</td>\n",
       "      <td>0</td>\n",
       "      <td>151</td>\n",
       "    </tr>\n",
       "    <tr>\n",
       "      <th>1</th>\n",
       "      <td>1559</td>\n",
       "      <td>66939848447027584</td>\n",
       "      <td>TYC 1804-1924-1</td>\n",
       "      <td>57.070387</td>\n",
       "      <td>25.214932</td>\n",
       "      <td>7.6087</td>\n",
       "      <td>132.557</td>\n",
       "      <td>9.066</td>\n",
       "      <td>8.137</td>\n",
       "      <td>20120109_0346p23_140</td>\n",
       "      <td>2.95</td>\n",
       "      <td>1.6</td>\n",
       "      <td>0</td>\n",
       "      <td>151</td>\n",
       "    </tr>\n",
       "    <tr>\n",
       "      <th>2</th>\n",
       "      <td>1904</td>\n",
       "      <td>50905051903831680</td>\n",
       "      <td>HIP 18091</td>\n",
       "      <td>58.003444</td>\n",
       "      <td>19.596690</td>\n",
       "      <td>6.7611</td>\n",
       "      <td>148.752</td>\n",
       "      <td>10.265</td>\n",
       "      <td>9.267</td>\n",
       "      <td>NaN</td>\n",
       "      <td>NaN</td>\n",
       "      <td>NaN</td>\n",
       "      <td>0</td>\n",
       "      <td>151</td>\n",
       "    </tr>\n",
       "    <tr>\n",
       "      <th>3</th>\n",
       "      <td>1929</td>\n",
       "      <td>51452746133437696</td>\n",
       "      <td>HIP 18544</td>\n",
       "      <td>59.507154</td>\n",
       "      <td>20.676596</td>\n",
       "      <td>7.6989</td>\n",
       "      <td>131.839</td>\n",
       "      <td>9.249</td>\n",
       "      <td>8.436</td>\n",
       "      <td>NaN</td>\n",
       "      <td>NaN</td>\n",
       "      <td>NaN</td>\n",
       "      <td>0</td>\n",
       "      <td>151</td>\n",
       "    </tr>\n",
       "    <tr>\n",
       "      <th>4</th>\n",
       "      <td>1944</td>\n",
       "      <td>51619115986889472</td>\n",
       "      <td>TYC 1261-1630-1</td>\n",
       "      <td>58.370320</td>\n",
       "      <td>20.907178</td>\n",
       "      <td>7.4847</td>\n",
       "      <td>134.194</td>\n",
       "      <td>11.553</td>\n",
       "      <td>10.096</td>\n",
       "      <td>NaN</td>\n",
       "      <td>NaN</td>\n",
       "      <td>NaN</td>\n",
       "      <td>0</td>\n",
       "      <td>151</td>\n",
       "    </tr>\n",
       "  </tbody>\n",
       "</table>\n",
       "</div>"
      ],
      "text/plain": [
       "   row_id     tgas_source_id             name         ra        dec  parallax  \\\n",
       "0     659  49809491645958528   TYC 1253-388-1  59.457281  18.562195    7.7395   \n",
       "1    1559  66939848447027584  TYC 1804-1924-1  57.070387  25.214932    7.6087   \n",
       "2    1904  50905051903831680        HIP 18091  58.003444  19.596690    6.7611   \n",
       "3    1929  51452746133437696        HIP 18544  59.507154  20.676596    7.6989   \n",
       "4    1944  51619115986889472  TYC 1261-1630-1  58.370320  20.907178    7.4847   \n",
       "\n",
       "   distance       G       J           rave_obs_id    rv  erv  group_id  \\\n",
       "0   129.949  11.160   9.984                   NaN   NaN  NaN         0   \n",
       "1   132.557   9.066   8.137  20120109_0346p23_140  2.95  1.6         0   \n",
       "2   148.752  10.265   9.267                   NaN   NaN  NaN         0   \n",
       "3   131.839   9.249   8.436                   NaN   NaN  NaN         0   \n",
       "4   134.194  11.553  10.096                   NaN   NaN  NaN         0   \n",
       "\n",
       "   group_size  \n",
       "0         151  \n",
       "1         151  \n",
       "2         151  \n",
       "3         151  \n",
       "4         151  "
      ]
     },
     "execution_count": 4,
     "metadata": {},
     "output_type": "execute_result"
    }
   ],
   "source": [
    "df.head()"
   ]
  },
  {
   "cell_type": "code",
   "execution_count": 5,
   "metadata": {},
   "outputs": [
    {
     "ename": "NameError",
     "evalue": "name 'star_data' is not defined",
     "output_type": "error",
     "traceback": [
      "\u001b[0;31m---------------------------------------------------------------------------\u001b[0m",
      "\u001b[0;31mNameError\u001b[0m                                 Traceback (most recent call last)",
      "\u001b[0;32m<ipython-input-5-bbde9d5ab3b6>\u001b[0m in \u001b[0;36m<module>\u001b[0;34m\u001b[0m\n\u001b[1;32m      1\u001b[0m \u001b[0mG\u001b[0m \u001b[0;34m=\u001b[0m \u001b[0mdf\u001b[0m\u001b[0;34m[\u001b[0m\u001b[0;34m\"G\"\u001b[0m\u001b[0;34m]\u001b[0m \u001b[0;31m#this allows us to index this list! Each group will use their group id\u001b[0m\u001b[0;34m\u001b[0m\u001b[0;34m\u001b[0m\u001b[0m\n\u001b[1;32m      2\u001b[0m \u001b[0mJ\u001b[0m \u001b[0;34m=\u001b[0m \u001b[0mdf\u001b[0m\u001b[0;34m[\u001b[0m\u001b[0;34m\"J\"\u001b[0m\u001b[0;34m]\u001b[0m\u001b[0;34m\u001b[0m\u001b[0;34m\u001b[0m\u001b[0m\n\u001b[0;32m----> 3\u001b[0;31m \u001b[0md\u001b[0m \u001b[0;34m=\u001b[0m \u001b[0mstar_data\u001b[0m\u001b[0;34m[\u001b[0m\u001b[0;34m\"distance\"\u001b[0m\u001b[0;34m]\u001b[0m\u001b[0;34m\u001b[0m\u001b[0;34m\u001b[0m\u001b[0m\n\u001b[0m",
      "\u001b[0;31mNameError\u001b[0m: name 'star_data' is not defined"
     ]
    }
   ],
   "source": [
    "G = df[\"G\"] #this allows us to index this list! Each group will use their group id\n",
    "J = df[\"J\"]\n",
    "d = star_data[\"distance\"]"
   ]
  },
  {
   "cell_type": "code",
   "execution_count": null,
   "metadata": {},
   "outputs": [],
   "source": [
    "#for parallax, d=1/p because 1 is in AU, and absolute mag is absG = G - 5 log d + 5\n",
    "absG = G - 5*np.log10(d) + 5"
   ]
  },
  {
   "cell_type": "code",
   "execution_count": null,
   "metadata": {},
   "outputs": [],
   "source": [
    "cm = plt.cm.get_cmap(\"hot_r\")\n",
    "plt.scatter(G-J, absG, c=G-J, cmap=cm)\n",
    "plt.ylim([-2,10])\n",
    "plt.xlim([-0.5, 2.5])\n",
    "plt.gca().invert_yaxis()\n",
    "plt.xlabel('Color (G-J)')\n",
    "plt.ylabel('Absolute Magnitude (G)')\n",
    "plt.title('Color Magnitude Diagram')\n",
    "plt.show()"
   ]
  },
  {
   "cell_type": "markdown",
   "metadata": {},
   "source": [
    "#### Next, add a second plot that adds the sun to your plot with a * marker.\n",
    "Note: To show both plots on the same figure, you'll need to move the plt.show() command to the end of the code for the second plot."
   ]
  },
  {
   "cell_type": "markdown",
   "metadata": {},
   "source": [
    "#### Finished? Find the color and absolute magnitude of the sun and the average color and absolute magnitude for your cluster."
   ]
  },
  {
   "cell_type": "code",
   "execution_count": null,
   "metadata": {},
   "outputs": [],
   "source": [
    "star_data = pd.read_csv(\"oh_table.csv\")\n",
    "star_data.head()"
   ]
  },
  {
   "cell_type": "code",
   "execution_count": null,
   "metadata": {},
   "outputs": [],
   "source": []
  },
  {
   "cell_type": "code",
   "execution_count": null,
   "metadata": {},
   "outputs": [],
   "source": []
  },
  {
   "cell_type": "code",
   "execution_count": null,
   "metadata": {},
   "outputs": [],
   "source": [
    "SunJ = 3.64\n",
    "SunG = 5.12\n",
    "cm = plt.cm.get_cmap(\"hot_r\")\n",
    "plt.scatter(G-J, absG, c=G-J, cmap=cm)\n",
    "plt.scatter(SunG - SunJ, SunG, marker = \"*\", c = \"yellow\", edgecolor = \"black\", s = 300)\n",
    "plt.ylim([-3,11])\n",
    "plt.xlim([-0.5, 3])\n",
    "plt.gca().invert_yaxis()\n",
    "plt.xlabel('Color (G-J)')\n",
    "plt.ylabel('Absolute Magnitude (G)')\n",
    "plt.title('Color Magnitude Diagram')\n",
    "plt.show()"
   ]
  },
  {
   "cell_type": "code",
   "execution_count": null,
   "metadata": {},
   "outputs": [],
   "source": [
    "brown_dwarf = pd.read_csv(\"bdnyc_sampledata.csv\")\n",
    "brown_dwarf.head()"
   ]
  },
  {
   "cell_type": "code",
   "execution_count": null,
   "metadata": {},
   "outputs": [],
   "source": [
    "disbd = 1 / brown_dwarf[\"parallax\"]\n",
    "Gbd = brown_dwarf[\"G\"]\n",
    "Jbd = brown_dwarf[\"J\"]\n",
    "absGbd = Gbd - 5*np.log10(disbd) + 5"
   ]
  },
  {
   "cell_type": "code",
   "execution_count": null,
   "metadata": {},
   "outputs": [],
   "source": [
    "SunJ = 3.64\n",
    "SunG = 5.12\n",
    "cm2 = plt.cm.get_cmap(\"gnuplot2_r\")\n",
    "cm = plt.cm.get_cmap(\"YlGnBu_r\")\n",
    "plt.scatter(Gbd-Jbd, absGbd, c = Gbd - Jbd, cmap = cm2, s = 20)\n",
    "plt.scatter(G-J, absG, c=G-J, cmap = cm, s = 20)\n",
    "plt.scatter(SunG - SunJ, SunG, marker = \"*\", c = \"yellow\", edgecolor = \"black\", s = 300)\n",
    "plt.gca().invert_yaxis()\n",
    "plt.xlabel('Color (G-J)')\n",
    "plt.ylabel('Absolute Magnitude (G)')\n",
    "plt.title('Color Magnitude Diagram')\n",
    "plt.show()"
   ]
  },
  {
   "cell_type": "code",
   "execution_count": null,
   "metadata": {},
   "outputs": [],
   "source": [
    "comboG = star_data[\"G\"].append(brown_dwarf[\"G\"])\n",
    "comboJ = star_data[\"J\"].append(brown_dwarf[\"J\"])\n",
    "comboG_J = comboG - comboJ\n",
    "G_J = G - J\n",
    "combodis = star_data[\"distance\"].append(disbd)\n",
    "comboGbd = comboG - 5*np.log10(combodis) + 5"
   ]
  },
  {
   "cell_type": "code",
   "execution_count": null,
   "metadata": {},
   "outputs": [],
   "source": [
    "SunJ = 3.64\n",
    "SunG = 5.12\n",
    "cm = plt.cm.get_cmap(\"Spectral_r\")\n",
    "plt.scatter(comboG_J, comboGbd, c = comboG_J, cmap = cm, s = 20)\n",
    "plt.scatter(SunG - SunJ, SunG, marker = \"*\", c = \"yellow\", edgecolor = \"black\", s = 300)\n",
    "plt.gca().invert_yaxis()\n",
    "plt.xlabel('Color (G-J)')\n",
    "plt.ylabel('Absolute Magnitude (G)')\n",
    "plt.title('Color Magnitude Diagram')\n",
    "plt.savefig(\"Plots/Color_Magnitude_Diagram.png\")\n",
    "plt.show()"
   ]
  },
  {
   "cell_type": "code",
   "execution_count": null,
   "metadata": {},
   "outputs": [],
   "source": []
  },
  {
   "cell_type": "code",
   "execution_count": null,
   "metadata": {},
   "outputs": [],
   "source": []
  }
 ],
 "metadata": {
  "kernelspec": {
   "display_name": "Python 3",
   "language": "python",
   "name": "python3"
  },
  "language_info": {
   "codemirror_mode": {
    "name": "ipython",
    "version": 3
   },
   "file_extension": ".py",
   "mimetype": "text/x-python",
   "name": "python",
   "nbconvert_exporter": "python",
   "pygments_lexer": "ipython3",
   "version": "3.7.3"
  }
 },
 "nbformat": 4,
 "nbformat_minor": 2
}
